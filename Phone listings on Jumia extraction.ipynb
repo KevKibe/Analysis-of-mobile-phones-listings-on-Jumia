{
 "cells": [
  {
   "cell_type": "code",
   "execution_count": 5,
   "id": "6cb73046",
   "metadata": {},
   "outputs": [],
   "source": [
    "from bs4 import BeautifulSoup\n",
    "import requests\n",
    "import pandas as pd\n",
    "from csv import writer"
   ]
  },
  {
   "cell_type": "markdown",
   "id": "306f5aa1",
   "metadata": {},
   "source": [
    "## 1.Data Extraction"
   ]
  },
  {
   "cell_type": "code",
   "execution_count": null,
   "id": "76a5abf3",
   "metadata": {},
   "outputs": [],
   "source": [
    "url= requests.get(\"https://www.jumia.co.ke/smartphones/?shipped_from=country_local#catalog-listing\").text\n",
    "soup=BeautifulSoup(url,'lxml')\n",
    "item_list = soup.find_all('article',class_=\"prd _fb col c-prd\",)\n",
    "\n",
    "#item_list\n",
    "\n",
    "for item in item_list:\n",
    "    Productname= item.find('h3',class_='name')\n",
    "    Price = item.find('div',class_='prc')\n",
    "    print(Productname)\n",
    "    print(Price)\n",
    "  \n"
   ]
  },
  {
   "cell_type": "code",
   "execution_count": 22,
   "id": "ce2665b2",
   "metadata": {},
   "outputs": [
    {
     "name": "stdout",
     "output_type": "stream",
     "text": [
      "Infinix Smart 6, 6.6\", 2GB RAM, 32GB, 5000mAh,Polar Black\n",
      "KSh 10,299\n",
      "Tecno Pop 6 6.1\", 2GB RAM+32GB, 8MP, 4G (Dual Sim) 5000MAh -Lime Green\n",
      "KSh 8,819\n",
      "XIAOMI Redmi 9A, 6.53\", 2GB+32GB, 13.0MP, 5000mAh, 4G LTE, Dual SIM - Grey\n",
      "KSh 11,499\n",
      "Oppo A83 64GB + 4GB RAM - 4G LTE Dual SIM -  5.7-inch,Red\n",
      "KSh 9,990\n",
      "Infinix Smart 6, 6.6\", 32GB + 2GB RAM (Dual SIM), 5000mAh, Quartz Cyan\n",
      "KSh 10,696\n",
      "XIAOMI Redmi 10 6.5'' Inches 4+128GB 50MP Rear Camera 4G Smartphone - Grey\n",
      "KSh 18,799\n",
      "XIAOMI Redmi 10A, 6.53\", 3GB+64GB, 13.0MP, 5000mAh, 4G LTE, Dual SIM - Graphite Grey\n",
      "KSh 14,799\n",
      "Oppo A16k, 6.52\", 32GB + 3GB RAM (Dual SIM), 4230mAh - Blue\n",
      "KSh 14,278\n",
      "Tecno Pova Neo, 6.8\", 64GB+ 4GB (Dual SIM),4G LTE, 6000mAh, Obsidian Black\n",
      "KSh 15,999\n",
      "Nokia C1 2nd Edition, 5.45\", 1GB +16GB - (DUAL SIM),Android 11, Blue\n",
      "KSh 7,139\n",
      "Samsung Galaxy A13, 6.6\", 64GB + 4GB RAM (Dual SIM), 5000mAh, Black\n",
      "KSh 19,299\n",
      "Samsung Galaxy A13, 6.6\", 64GB + 4GB RAM (Dual SIM), 5000mAh, Blue\n",
      "KSh 19,299\n",
      "Tecno Pop 6 GO, 6\", 32GB + 2GB RAM ,(Dual SIM), 4000mAh,  + CLASSIC GIFTS\n",
      "KSh 9,445\n",
      "Samsung Galaxy A03s – 6.5″ – 32GB + 3GB – Dual SIM - Black\n",
      "KSh 13,699\n",
      "Samsung Galaxy A13, 6.6\", 128GB + 4GB RAM (Dual SIM), 5000mAh, Black\n",
      "KSh 21,699\n",
      "Tecno CAMON 19, 6.8\", 128GB+ 4GB (Dual SIM), (4G LTE) 5000mAh, Eco Black\n",
      "KSh 22,399\n",
      "XIAOMI Redmi 9C 6.53'', 4GB+128GB, 13MP+2MP+2MP Camera, 4G, Dual SIM - Lavender Purple\n",
      "KSh 16,299\n",
      "Samsung Galaxy A03 Core, 6.5\" 32GB + 2G, 5000mAh,Dual Sim- (Black) Onyx\n",
      "KSh 11,699\n",
      "Oppo A83 64GB + 4GB RAM - 4G LTE Dual SIM -  5.7-inch,Black\n",
      "KSh 9,790\n",
      "Samsung Galaxy A23, 6.6″, 64GB + 4GB RAM (Dual SIM), 5000mAh, Blue\n",
      "KSh 22,499\n",
      "Itel A14 Plus, 4\", 8GB + 1GB RAM, 2500mAh - Blue\n",
      "KSh 4,443\n",
      "Ulefone Note 6, 6.1\", 32GB + 1GB RAM (Dual SIM), 3300mAh, Black\n",
      "KSh 7,599\n",
      "Samsung Galaxy A03, 6.5\", 64GB + 4GB RAM (Dual SIM), 5000mAh, Black\n",
      "KSh 15,299\n",
      "Tecno CAMON 19, 6.8\", 128GB+ 4GB (Dual SIM), (4G LTE) 5000mAh, Eco Black\n",
      "KSh 22,599\n",
      "Infinix HOT 12i, 6.6''{ 64GB+2GB Expandable To 4GBRAM} (Dual SIM), 4G LTE, 5000mAh,black\n",
      "KSh 12,995\n",
      "Samsung Galaxy A03 6.5\" 3GB RAM+32GB ROM 48 MP //Dual SIM-Blue+FREE EARBUDS+C+W\n",
      "KSh 13,990\n",
      "Tecno CAMON 19, 6.8\", 128GB+ 4GB (Dual SIM), (4G LTE) 5000mAh, MEMPHIS GREEN\n",
      "KSh 22,750\n",
      "Infinix Smart 6, 6.6\", 2GB RAM, 32GB, Android 10, XOS 7.6, 5000mAh, 3G - Ocean Wave\n",
      "KSh 10,695\n",
      "XIAOMI Redmi 10C 6.71'', 4GB+128GB, 50MP+2MP Camera, 4G, Dual SIM - Blue\n",
      "KSh 19,099\n",
      "Tecno Spark 9T, 6.6\", (64GB ROM + 4GB RAM) , {Dual Sim} , 5000mAh, 4G, QUANTUM BLACK\n",
      "KSh 16,590\n",
      "Itel A58 Lite, 6.3\", 32GB + 2GB RAM (Dual SIM), 4000mAh, Blue Wave\n",
      "KSh 8,255\n",
      "Itel A33 Plus,,5.0\" Screen Display(16GB+1GB),Fingerprint,(Dual Sim) Blue,,w.s\"\n",
      "KSh 6,160\n",
      "Nokia G21 – 6.5″ – 128GB + 4GB – Dual SIM Nordic Blue\n",
      "KSh 18,900\n",
      "XIAOMI Redmi 9A 6.53\", 2GB RAM+32GB, 5000mAh, Dual SIM, 4G LTE - Glacial Blue\n",
      "KSh 11,499\n",
      "Infinix Smart 6, 6.6\", 32GB + 2GB RAM (Dual SIM), 5000mAh +FREE GIFTS\n",
      "KSh 11,100\n",
      "Samsung Galaxy A03, 6.5\", 64GB + 4GB RAM (Dual SIM), 5000mAh, Blue\n",
      "KSh 15,299\n",
      "XIAOMI Redmi 10C 6.71'', 4GB+64GB, 50MP+2MP Camera, 4G, 5000MAH Battery Dual SIM- Blue\n",
      "KSh 16,499\n",
      "Tecno Spark 8C 6.6\" 64GB+ 2GB RAM Dual Sim, Black + Smart Watch + P.Bank\n",
      "KSh 13,898\n",
      "Samsung Galaxy A13, 6.6\", 128GB + 4GB (Dual SIM), Blue + Smart Watch & Power Bank\n",
      "KSh 22,997\n",
      "Tecno Spark 8C 6.6\" 64GB ROM + 2GB RAM, Dual Sim, Purple\n",
      "KSh 12,999\n"
     ]
    }
   ],
   "source": [
    "#To remove the html tags\n",
    "all_items=[]\n",
    "\n",
    "for item in item_list:\n",
    "    Productname= item.find('h3',class_='name')\n",
    "    Price = item.find('div',class_='prc')\n",
    "    \n",
    "    print(Productname.text.strip())\n",
    "    print(Price.text.strip())\n",
    "    all_items.append((Productname.text.strip(),Price.text.strip()))"
   ]
  },
  {
   "cell_type": "code",
   "execution_count": null,
   "id": "ee953f30",
   "metadata": {},
   "outputs": [],
   "source": [
    "#To put the data in a dataframe\n",
    "df = pd.DataFrame(all_items)\n",
    "df.columns = [\"product_name\", \"price\"]"
   ]
  },
  {
   "cell_type": "markdown",
   "id": "7e6bea71",
   "metadata": {},
   "source": [
    "## 2.Data Assesment"
   ]
  },
  {
   "cell_type": "code",
   "execution_count": 23,
   "id": "4929bda3",
   "metadata": {},
   "outputs": [
    {
     "data": {
      "text/html": [
       "<div>\n",
       "<style scoped>\n",
       "    .dataframe tbody tr th:only-of-type {\n",
       "        vertical-align: middle;\n",
       "    }\n",
       "\n",
       "    .dataframe tbody tr th {\n",
       "        vertical-align: top;\n",
       "    }\n",
       "\n",
       "    .dataframe thead th {\n",
       "        text-align: right;\n",
       "    }\n",
       "</style>\n",
       "<table border=\"1\" class=\"dataframe\">\n",
       "  <thead>\n",
       "    <tr style=\"text-align: right;\">\n",
       "      <th></th>\n",
       "      <th>product_name</th>\n",
       "      <th>price</th>\n",
       "    </tr>\n",
       "  </thead>\n",
       "  <tbody>\n",
       "    <tr>\n",
       "      <th>0</th>\n",
       "      <td>Infinix Smart 6, 6.6\", 2GB RAM, 32GB, 5000mAh,...</td>\n",
       "      <td>KSh 10,299</td>\n",
       "    </tr>\n",
       "    <tr>\n",
       "      <th>1</th>\n",
       "      <td>Tecno Pop 6 6.1\", 2GB RAM+32GB, 8MP, 4G (Dual ...</td>\n",
       "      <td>KSh 8,819</td>\n",
       "    </tr>\n",
       "    <tr>\n",
       "      <th>2</th>\n",
       "      <td>XIAOMI Redmi 9A, 6.53\", 2GB+32GB, 13.0MP, 5000...</td>\n",
       "      <td>KSh 11,499</td>\n",
       "    </tr>\n",
       "    <tr>\n",
       "      <th>3</th>\n",
       "      <td>Oppo A83 64GB + 4GB RAM - 4G LTE Dual SIM -  5...</td>\n",
       "      <td>KSh 9,990</td>\n",
       "    </tr>\n",
       "    <tr>\n",
       "      <th>4</th>\n",
       "      <td>Infinix Smart 6, 6.6\", 32GB + 2GB RAM (Dual SI...</td>\n",
       "      <td>KSh 10,696</td>\n",
       "    </tr>\n",
       "  </tbody>\n",
       "</table>\n",
       "</div>"
      ],
      "text/plain": [
       "                                        product_name       price\n",
       "0  Infinix Smart 6, 6.6\", 2GB RAM, 32GB, 5000mAh,...  KSh 10,299\n",
       "1  Tecno Pop 6 6.1\", 2GB RAM+32GB, 8MP, 4G (Dual ...   KSh 8,819\n",
       "2  XIAOMI Redmi 9A, 6.53\", 2GB+32GB, 13.0MP, 5000...  KSh 11,499\n",
       "3  Oppo A83 64GB + 4GB RAM - 4G LTE Dual SIM -  5...   KSh 9,990\n",
       "4  Infinix Smart 6, 6.6\", 32GB + 2GB RAM (Dual SI...  KSh 10,696"
      ]
     },
     "execution_count": 23,
     "metadata": {},
     "output_type": "execute_result"
    }
   ],
   "source": [
    "df.head()"
   ]
  },
  {
   "cell_type": "code",
   "execution_count": 24,
   "id": "0f96e452",
   "metadata": {},
   "outputs": [
    {
     "data": {
      "text/html": [
       "<div>\n",
       "<style scoped>\n",
       "    .dataframe tbody tr th:only-of-type {\n",
       "        vertical-align: middle;\n",
       "    }\n",
       "\n",
       "    .dataframe tbody tr th {\n",
       "        vertical-align: top;\n",
       "    }\n",
       "\n",
       "    .dataframe thead th {\n",
       "        text-align: right;\n",
       "    }\n",
       "</style>\n",
       "<table border=\"1\" class=\"dataframe\">\n",
       "  <thead>\n",
       "    <tr style=\"text-align: right;\">\n",
       "      <th></th>\n",
       "      <th>product_name</th>\n",
       "      <th>price</th>\n",
       "    </tr>\n",
       "  </thead>\n",
       "  <tbody>\n",
       "    <tr>\n",
       "      <th>35</th>\n",
       "      <td>Samsung Galaxy A03, 6.5\", 64GB + 4GB RAM (Dual...</td>\n",
       "      <td>KSh 15,299</td>\n",
       "    </tr>\n",
       "    <tr>\n",
       "      <th>36</th>\n",
       "      <td>XIAOMI Redmi 10C 6.71'', 4GB+64GB, 50MP+2MP Ca...</td>\n",
       "      <td>KSh 16,499</td>\n",
       "    </tr>\n",
       "    <tr>\n",
       "      <th>37</th>\n",
       "      <td>Tecno Spark 8C 6.6\" 64GB+ 2GB RAM Dual Sim, Bl...</td>\n",
       "      <td>KSh 13,898</td>\n",
       "    </tr>\n",
       "    <tr>\n",
       "      <th>38</th>\n",
       "      <td>Samsung Galaxy A13, 6.6\", 128GB + 4GB (Dual SI...</td>\n",
       "      <td>KSh 22,997</td>\n",
       "    </tr>\n",
       "    <tr>\n",
       "      <th>39</th>\n",
       "      <td>Tecno Spark 8C 6.6\" 64GB ROM + 2GB RAM, Dual S...</td>\n",
       "      <td>KSh 12,999</td>\n",
       "    </tr>\n",
       "  </tbody>\n",
       "</table>\n",
       "</div>"
      ],
      "text/plain": [
       "                                         product_name       price\n",
       "35  Samsung Galaxy A03, 6.5\", 64GB + 4GB RAM (Dual...  KSh 15,299\n",
       "36  XIAOMI Redmi 10C 6.71'', 4GB+64GB, 50MP+2MP Ca...  KSh 16,499\n",
       "37  Tecno Spark 8C 6.6\" 64GB+ 2GB RAM Dual Sim, Bl...  KSh 13,898\n",
       "38  Samsung Galaxy A13, 6.6\", 128GB + 4GB (Dual SI...  KSh 22,997\n",
       "39  Tecno Spark 8C 6.6\" 64GB ROM + 2GB RAM, Dual S...  KSh 12,999"
      ]
     },
     "execution_count": 24,
     "metadata": {},
     "output_type": "execute_result"
    }
   ],
   "source": [
    "df.tail()"
   ]
  },
  {
   "cell_type": "code",
   "execution_count": 26,
   "id": "59f8c2fa",
   "metadata": {},
   "outputs": [
    {
     "data": {
      "text/plain": [
       "product_name    0\n",
       "price           0\n",
       "dtype: int64"
      ]
     },
     "execution_count": 26,
     "metadata": {},
     "output_type": "execute_result"
    }
   ],
   "source": [
    "df.isna().sum()\n"
   ]
  },
  {
   "cell_type": "code",
   "execution_count": 27,
   "id": "c2d626e0",
   "metadata": {},
   "outputs": [
    {
     "name": "stdout",
     "output_type": "stream",
     "text": [
      "<class 'pandas.core.frame.DataFrame'>\n",
      "RangeIndex: 40 entries, 0 to 39\n",
      "Data columns (total 2 columns):\n",
      " #   Column        Non-Null Count  Dtype \n",
      "---  ------        --------------  ----- \n",
      " 0   product_name  40 non-null     object\n",
      " 1   price         40 non-null     object\n",
      "dtypes: object(2)\n",
      "memory usage: 768.0+ bytes\n"
     ]
    }
   ],
   "source": [
    "df.info()"
   ]
  },
  {
   "cell_type": "code",
   "execution_count": 28,
   "id": "8693c1b0",
   "metadata": {},
   "outputs": [
    {
     "data": {
      "text/plain": [
       "0"
      ]
     },
     "execution_count": 28,
     "metadata": {},
     "output_type": "execute_result"
    }
   ],
   "source": [
    "df.duplicated().sum()"
   ]
  },
  {
   "cell_type": "markdown",
   "id": "29c2efa6",
   "metadata": {},
   "source": [
    "## 3.Data Cleaning"
   ]
  },
  {
   "cell_type": "markdown",
   "id": "f6389192",
   "metadata": {},
   "source": [
    "1.To remove the 'ksh'symbol in the price column and to change the datatype to integer"
   ]
  },
  {
   "cell_type": "code",
   "execution_count": 30,
   "id": "a03c2834",
   "metadata": {},
   "outputs": [
    {
     "data": {
      "text/plain": [
       "dtype('int32')"
      ]
     },
     "execution_count": 30,
     "metadata": {},
     "output_type": "execute_result"
    }
   ],
   "source": [
    "df['price'] = df['price'].str[3:] \n",
    "df['price'] = df['price'].str.replace(',', '')\n",
    "df['price'] = df['price'].astype(int)\n",
    "df['price'].dtype"
   ]
  },
  {
   "cell_type": "code",
   "execution_count": 33,
   "id": "0b74fb99",
   "metadata": {},
   "outputs": [
    {
     "data": {
      "text/plain": [
       "35    15299\n",
       "36    16499\n",
       "37    13898\n",
       "38    22997\n",
       "39    12999\n",
       "Name: price, dtype: int32"
      ]
     },
     "execution_count": 33,
     "metadata": {},
     "output_type": "execute_result"
    }
   ],
   "source": [
    "df['price'].tail()"
   ]
  },
  {
   "cell_type": "markdown",
   "id": "b39d3781",
   "metadata": {},
   "source": [
    "## 4.Feature Extraction"
   ]
  },
  {
   "cell_type": "code",
   "execution_count": null,
   "id": "5bd974d1",
   "metadata": {},
   "outputs": [],
   "source": []
  }
 ],
 "metadata": {
  "kernelspec": {
   "display_name": "Python 3 (ipykernel)",
   "language": "python",
   "name": "python3"
  },
  "language_info": {
   "codemirror_mode": {
    "name": "ipython",
    "version": 3
   },
   "file_extension": ".py",
   "mimetype": "text/x-python",
   "name": "python",
   "nbconvert_exporter": "python",
   "pygments_lexer": "ipython3",
   "version": "3.9.12"
  }
 },
 "nbformat": 4,
 "nbformat_minor": 5
}
